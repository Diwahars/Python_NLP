{
 "cells": [
  {
   "cell_type": "code",
   "execution_count": 1,
   "metadata": {},
   "outputs": [],
   "source": [
    "import spacy\n",
    "spacy.load('en')\n",
    "from spacy.lang.en import English\n",
    "parser = English()\n",
    "\n",
    "def tokenize(text):\n",
    "    lda_tokens = []\n",
    "    tokens = parser(text)\n",
    "    for token in tokens:\n",
    "        if token.orth_.isspace():\n",
    "            continue\n",
    "        elif token.like_url:\n",
    "            lda_tokens.append('URL')\n",
    "        elif token.orth_.startswith('@'):\n",
    "            lda_tokens.append('SCREEN_NAME')\n",
    "        else:\n",
    "            lda_tokens.append(token.lower_)\n",
    "    return lda_tokens"
   ]
  },
  {
   "cell_type": "code",
   "execution_count": 3,
   "metadata": {},
   "outputs": [
    {
     "name": "stdout",
     "output_type": "stream",
     "text": [
      "[nltk_data] Downloading package wordnet to\n",
      "[nltk_data]     C:\\Users\\sivard2\\AppData\\Roaming\\nltk_data...\n",
      "[nltk_data]   Package wordnet is already up-to-date!\n"
     ]
    }
   ],
   "source": [
    "#NLTK wordnet for synonyms and antonyms\n",
    "import nltk\n",
    "nltk.download('wordnet')\n",
    "\n",
    "#Wordnet lemmatizer to get root word\n",
    "from nltk.corpus import wordnet as wn\n",
    "def get_lemma(word):\n",
    "    lemma = wn.morphy(word)\n",
    "    if lemma is None:\n",
    "        return word\n",
    "    else:\n",
    "        return lemma\n",
    "    \n",
    "from nltk.stem.wordnet import WordNetLemmatizer\n",
    "def get_lemma2(word):\n",
    "    return WordNetLemmatizer().lemmatize(word)"
   ]
  },
  {
   "cell_type": "code",
   "execution_count": 4,
   "metadata": {},
   "outputs": [
    {
     "name": "stdout",
     "output_type": "stream",
     "text": [
      "[nltk_data] Downloading package stopwords to\n",
      "[nltk_data]     C:\\Users\\sivard2\\AppData\\Roaming\\nltk_data...\n",
      "[nltk_data]   Package stopwords is already up-to-date!\n"
     ]
    }
   ],
   "source": [
    "#Stopwords\n",
    "nltk.download('stopwords')\n",
    "en_stop = set(nltk.corpus.stopwords.words('english'))"
   ]
  },
  {
   "cell_type": "code",
   "execution_count": 5,
   "metadata": {},
   "outputs": [],
   "source": [
    "def prepare_text_for_lda(text):\n",
    "    tokens = tokenize(text)\n",
    "    tokens = [token for token in tokens if len(token) > 4]\n",
    "    tokens = [token for token in tokens if token not in en_stop]\n",
    "    tokens = [get_lemma(token) for token in tokens]\n",
    "    return tokens"
   ]
  },
  {
   "cell_type": "code",
   "execution_count": 6,
   "metadata": {},
   "outputs": [
    {
     "name": "stdout",
     "output_type": "stream",
     "text": [
      "['gesture', 'world', 'technology', 'estimation', 'system', 'unspecified', 'user', 'using', 'compact', 'speed', 'camera']\n",
      "['integrating', 'fluid', 'model', 'packet', 'simulation']\n",
      "['opinion', 'receive', 'online', 'community', 'study', 'helpfulness', 'vote']\n",
      "['textual', 'contextual', 'pattern', 'sentiment', 'analysis', 'microblogs']\n",
      "['hardware', 'organization', 'nonnumeric', 'processing']\n",
      "['apply', 'database', 'technology', 'storage', 'system']\n",
      "['mix', 'domain', 'receiver', 'architecture', 'white', 'space', 'software', 'define', 'radio', 'scenario']\n",
      "['automate', 'design', 'multi', 'dimensional', 'clustering', 'table', 'relational', 'database']\n",
      "['voltage', 'single', 'end', 'fully', 'differential', 'amplifier', 'programmable']\n",
      "['tile', 'interleave', 'multi', 'level', 'discrete', 'wavelet', 'transform']\n",
      "['dipzoom', 'internet', 'measurement', 'marketplace']\n",
      "['3.5-d', 'integration', 'study']\n",
      "['architecture', 'manage', 'application', 'services', 'global', 'network']\n",
      "['intelligent', 'remotely', 'power', 'freely', 'move', 'animal', 'telemetry', 'system']\n",
      "['experiment', 'persian', 'compression']\n",
      "['programming', 'algorithm', 'multilevel', 'phase', 'change', 'memory']\n",
      "['enhance', 'energy', 'efficiency', 'early', 'reset', 'merge', 'capacitor', 'switching', 'algorithm']\n",
      "['single', 'audio', 'system', 'delta', 'sigma', 'class', 'amplifier']\n",
      "['dish']\n",
      "['graphics', 'internet', 'shoot', 'panel', 'session']\n",
      "['hexagonal', 'field', 'programmable', 'analog', 'array', 'consist', 'digitally', 'tunable']\n",
      "['cross', 'layer', 'quality', 'service', 'support', 'wireless', 'multimedia', 'sensor', 'network']\n",
      "['hardware', 'efficient', 'implementation', '3-parallel', 'linear', 'phase', 'digital', 'filter', 'length']\n",
      "['social', 'network', 'aid', 'context', 'aware', 'recommender', 'system']\n",
      "['enable', 'parallel', 'processing', 'image', 'halftoning', 'application']\n"
     ]
    }
   ],
   "source": [
    "import random\n",
    "text_data = []\n",
    "with open('dataset.csv') as f:\n",
    "    for line in f:\n",
    "        tokens = prepare_text_for_lda(line)\n",
    "        if random.random() > .99:\n",
    "            print(tokens)\n",
    "            text_data.append(tokens)"
   ]
  },
  {
   "cell_type": "code",
   "execution_count": 7,
   "metadata": {},
   "outputs": [
    {
     "name": "stderr",
     "output_type": "stream",
     "text": [
      "C:\\Users\\sivard2\\AppData\\Local\\Continuum\\anaconda3\\lib\\site-packages\\gensim\\utils.py:1209: UserWarning: detected Windows; aliasing chunkize to chunkize_serial\n",
      "  warnings.warn(\"detected Windows; aliasing chunkize to chunkize_serial\")\n"
     ]
    }
   ],
   "source": [
    "from gensim import corpora\n",
    "dictionary = corpora.Dictionary(text_data)\n",
    "corpus = [dictionary.doc2bow(text) for text in text_data]\n",
    "\n",
    "import pickle\n",
    "pickle.dump(corpus, open('corpus.pkl', 'wb'))\n",
    "dictionary.save('dictionary.gensim')"
   ]
  },
  {
   "cell_type": "markdown",
   "metadata": {},
   "source": [
    "# 5 Topics"
   ]
  },
  {
   "cell_type": "code",
   "execution_count": 19,
   "metadata": {},
   "outputs": [
    {
     "name": "stdout",
     "output_type": "stream",
     "text": [
      "(0, '0.017*\"hardware\" + 0.017*\"array\" + 0.017*\"field\" + 0.017*\"digitally\"')\n",
      "(1, '0.024*\"system\" + 0.024*\"single\" + 0.024*\"amplifier\" + 0.024*\"technology\"')\n",
      "(2, '0.041*\"database\" + 0.022*\"architecture\" + 0.022*\"storage\" + 0.022*\"apply\"')\n",
      "(3, '0.030*\"application\" + 0.030*\"internet\" + 0.017*\"study\" + 0.017*\"merge\"')\n",
      "(4, '0.022*\"network\" + 0.022*\"system\" + 0.022*\"phase\" + 0.022*\"processing\"')\n"
     ]
    }
   ],
   "source": [
    "import gensim\n",
    "NUM_TOPICS = 5\n",
    "ldamodel = gensim.models.ldamodel.LdaModel(corpus, num_topics = NUM_TOPICS, id2word=dictionary, passes=15)\n",
    "ldamodel.save('model5.gensim')\n",
    "topics = ldamodel.print_topics(num_words=4)\n",
    "for topic in topics:\n",
    "    print(topic)"
   ]
  },
  {
   "cell_type": "code",
   "execution_count": 20,
   "metadata": {},
   "outputs": [
    {
     "name": "stdout",
     "output_type": "stream",
     "text": [
      "[(87, 1)]\n",
      "[(0, 0.10001788), (1, 0.10002507), (2, 0.10002322), (3, 0.10304928), (4, 0.5968846)]\n"
     ]
    }
   ],
   "source": [
    "#Test\n",
    "new_doc = 'Practical Bayesian Optimization of Machine Learning Algorithms'\n",
    "new_doc = prepare_text_for_lda(new_doc)\n",
    "new_doc_bow = dictionary.doc2bow(new_doc)\n",
    "print(new_doc_bow)\n",
    "print(ldamodel.get_document_topics(new_doc_bow))\n",
    "#print(ldamodel.print_topics(num_words=4))"
   ]
  },
  {
   "cell_type": "code",
   "execution_count": 10,
   "metadata": {},
   "outputs": [
    {
     "name": "stdout",
     "output_type": "stream",
     "text": [
      "(0, '0.031*\"system\" + 0.021*\"technology\" + 0.021*\"database\" + 0.012*\"study\"')\n",
      "(1, '0.028*\"network\" + 0.028*\"application\" + 0.016*\"processing\" + 0.016*\"algorithm\"')\n",
      "(2, '0.022*\"programmable\" + 0.022*\"single\" + 0.022*\"amplifier\" + 0.022*\"hardware\"')\n"
     ]
    }
   ],
   "source": [
    "#3 Topics\n",
    "ldamodel = gensim.models.ldamodel.LdaModel(corpus, num_topics = 3, id2word=dictionary, passes=15)\n",
    "ldamodel.save('model3.gensim')\n",
    "topics = ldamodel.print_topics(num_words=4)\n",
    "for topic in topics:\n",
    "    print(topic)"
   ]
  },
  {
   "cell_type": "code",
   "execution_count": 11,
   "metadata": {},
   "outputs": [
    {
     "name": "stdout",
     "output_type": "stream",
     "text": [
      "(0, '0.027*\"technology\" + 0.027*\"compact\" + 0.027*\"user\" + 0.027*\"unspecified\"')\n",
      "(1, '0.041*\"processing\" + 0.041*\"application\" + 0.041*\"parallel\" + 0.041*\"discrete\"')\n",
      "(2, '0.048*\"network\" + 0.048*\"service\" + 0.048*\"support\" + 0.048*\"wireless\"')\n",
      "(3, '0.034*\"study\" + 0.034*\"vote\" + 0.034*\"community\" + 0.034*\"packet\"')\n",
      "(4, '0.031*\"architecture\" + 0.031*\"software\" + 0.031*\"scenario\" + 0.031*\"radio\"')\n",
      "(5, '0.088*\"system\" + 0.031*\"aware\" + 0.031*\"move\" + 0.031*\"recommender\"')\n",
      "(6, '0.052*\"programmable\" + 0.052*\"amplifier\" + 0.052*\"single\" + 0.052*\"differential\"')\n",
      "(7, '0.029*\"hardware\" + 0.029*\"contextual\" + 0.029*\"analysis\" + 0.029*\"switching\"')\n",
      "(8, '0.044*\"database\" + 0.044*\"multi\" + 0.044*\"relational\" + 0.044*\"design\"')\n",
      "(9, '0.044*\"internet\" + 0.044*\"algorithm\" + 0.044*\"phase\" + 0.044*\"multilevel\"')\n"
     ]
    }
   ],
   "source": [
    "#10 Topics\n",
    "ldamodel = gensim.models.ldamodel.LdaModel(corpus, num_topics = 10, id2word=dictionary, passes=15)\n",
    "ldamodel.save('model10.gensim')\n",
    "topics = ldamodel.print_topics(num_words=4)\n",
    "for topic in topics:\n",
    "    print(topic)"
   ]
  },
  {
   "cell_type": "markdown",
   "metadata": {},
   "source": [
    "# PYLDAvis"
   ]
  },
  {
   "cell_type": "code",
   "execution_count": 15,
   "metadata": {},
   "outputs": [
    {
     "name": "stderr",
     "output_type": "stream",
     "text": [
      "C:\\Users\\sivard2\\AppData\\Local\\Continuum\\anaconda3\\lib\\site-packages\\pyLDAvis\\_prepare.py:257: FutureWarning: Sorting because non-concatenation axis is not aligned. A future version\n",
      "of pandas will change to not sort by default.\n",
      "\n",
      "To accept the future behavior, pass 'sort=True'.\n",
      "\n",
      "To retain the current behavior and silence the warning, pass sort=False\n",
      "\n",
      "  return pd.concat([default_term_info] + list(topic_dfs))\n"
     ]
    },
    {
     "data": {
      "text/html": [
       "\n",
       "<link rel=\"stylesheet\" type=\"text/css\" href=\"https://cdn.rawgit.com/bmabey/pyLDAvis/files/ldavis.v1.0.0.css\">\n",
       "\n",
       "\n",
       "<div id=\"ldavis_el312019216099311769602283766\"></div>\n",
       "<script type=\"text/javascript\">\n",
       "\n",
       "var ldavis_el312019216099311769602283766_data = {\"mdsDat\": {\"x\": [0.1267194183506484, -0.01901126316827979, 0.00042801377189835555, -0.011680430595041784, -0.0032755363970550767, 0.09955789142281322, 0.0035338916139739753, -0.15720659698573222, -0.003120841029203468, -0.03594454698402193], \"y\": [0.12284718330473561, -0.04590655184970995, -0.014208371482407492, -0.10963772739890361, -0.05758004273623043, -0.017842187463242322, 0.00693025652517006, 0.09108158376842676, -0.029201975888371753, 0.05351783322053335], \"topics\": [1, 2, 3, 4, 5, 6, 7, 8, 9, 10], \"cluster\": [1, 1, 1, 1, 1, 1, 1, 1, 1, 1], \"Freq\": [15.37516975402832, 8.308985710144043, 6.341372489929199, 10.896967887878418, 12.74874210357666, 12.430054664611816, 5.114668369293213, 14.566744804382324, 7.124670028686523, 7.092630863189697]}, \"tinfo\": {\"Category\": [\"Default\", \"Default\", \"Default\", \"Default\", \"Default\", \"Default\", \"Default\", \"Default\", \"Default\", \"Default\", \"Default\", \"Default\", \"Default\", \"Default\", \"Default\", \"Default\", \"Default\", \"Default\", \"Default\", \"Default\", \"Default\", \"Default\", \"Default\", \"Default\", \"Default\", \"Default\", \"Default\", \"Default\", \"Default\", \"Default\", \"Topic1\", \"Topic1\", \"Topic1\", \"Topic1\", \"Topic1\", \"Topic1\", \"Topic1\", \"Topic1\", \"Topic1\", \"Topic1\", \"Topic1\", \"Topic1\", \"Topic1\", \"Topic1\", \"Topic1\", \"Topic1\", \"Topic1\", \"Topic1\", \"Topic1\", \"Topic1\", \"Topic1\", \"Topic1\", \"Topic1\", \"Topic1\", \"Topic1\", \"Topic1\", \"Topic1\", \"Topic1\", \"Topic1\", \"Topic1\", \"Topic1\", \"Topic1\", \"Topic1\", \"Topic1\", \"Topic2\", \"Topic2\", \"Topic2\", \"Topic2\", \"Topic2\", \"Topic2\", \"Topic2\", \"Topic2\", \"Topic2\", \"Topic2\", \"Topic2\", \"Topic2\", \"Topic2\", \"Topic2\", \"Topic2\", \"Topic2\", \"Topic2\", \"Topic2\", \"Topic2\", \"Topic2\", \"Topic2\", \"Topic2\", \"Topic2\", \"Topic2\", \"Topic2\", \"Topic2\", \"Topic2\", \"Topic2\", \"Topic2\", \"Topic2\", \"Topic2\", \"Topic2\", \"Topic2\", \"Topic2\", \"Topic2\", \"Topic2\", \"Topic2\", \"Topic2\", \"Topic2\", \"Topic2\", \"Topic2\", \"Topic2\", \"Topic2\", \"Topic2\", \"Topic2\", \"Topic2\", \"Topic2\", \"Topic2\", \"Topic2\", \"Topic3\", \"Topic3\", \"Topic3\", \"Topic3\", \"Topic3\", \"Topic3\", \"Topic3\", \"Topic3\", \"Topic3\", \"Topic3\", \"Topic3\", \"Topic3\", \"Topic3\", \"Topic3\", \"Topic3\", \"Topic3\", \"Topic3\", \"Topic3\", \"Topic3\", \"Topic3\", \"Topic3\", \"Topic3\", \"Topic3\", \"Topic3\", \"Topic3\", \"Topic3\", \"Topic3\", \"Topic3\", \"Topic3\", \"Topic3\", \"Topic3\", \"Topic3\", \"Topic3\", \"Topic3\", \"Topic3\", \"Topic3\", \"Topic3\", \"Topic3\", \"Topic3\", \"Topic3\", \"Topic3\", \"Topic3\", \"Topic3\", \"Topic3\", \"Topic3\", \"Topic3\", \"Topic4\", \"Topic4\", \"Topic4\", \"Topic4\", \"Topic4\", \"Topic4\", \"Topic4\", \"Topic4\", \"Topic4\", \"Topic4\", \"Topic4\", \"Topic4\", \"Topic4\", \"Topic4\", \"Topic4\", \"Topic4\", \"Topic4\", \"Topic4\", \"Topic4\", \"Topic4\", \"Topic4\", \"Topic4\", \"Topic4\", \"Topic4\", \"Topic4\", \"Topic4\", \"Topic4\", \"Topic4\", \"Topic4\", \"Topic4\", \"Topic4\", \"Topic4\", \"Topic4\", \"Topic4\", \"Topic4\", \"Topic4\", \"Topic4\", \"Topic4\", \"Topic4\", \"Topic4\", \"Topic4\", \"Topic4\", \"Topic5\", \"Topic5\", \"Topic5\", \"Topic5\", \"Topic5\", \"Topic5\", \"Topic5\", \"Topic5\", \"Topic5\", \"Topic5\", \"Topic5\", \"Topic5\", \"Topic5\", \"Topic5\", \"Topic5\", \"Topic5\", \"Topic5\", \"Topic5\", \"Topic5\", \"Topic5\", \"Topic5\", \"Topic5\", \"Topic5\", \"Topic5\", \"Topic5\", \"Topic5\", \"Topic5\", \"Topic5\", \"Topic5\", \"Topic5\", \"Topic5\", \"Topic5\", \"Topic5\", \"Topic5\", \"Topic5\", \"Topic5\", \"Topic5\", \"Topic5\", \"Topic5\", \"Topic5\", \"Topic5\", \"Topic5\", \"Topic6\", \"Topic6\", \"Topic6\", \"Topic6\", \"Topic6\", \"Topic6\", \"Topic6\", \"Topic6\", \"Topic6\", \"Topic6\", \"Topic6\", \"Topic6\", \"Topic6\", \"Topic6\", \"Topic6\", \"Topic6\", \"Topic6\", \"Topic6\", \"Topic6\", \"Topic6\", \"Topic6\", \"Topic6\", \"Topic6\", \"Topic6\", \"Topic6\", \"Topic6\", \"Topic6\", \"Topic6\", \"Topic6\", \"Topic6\", \"Topic6\", \"Topic6\", \"Topic6\", \"Topic6\", \"Topic6\", \"Topic6\", \"Topic6\", \"Topic6\", \"Topic6\", \"Topic6\", \"Topic6\", \"Topic7\", \"Topic7\", \"Topic7\", \"Topic7\", \"Topic7\", \"Topic7\", \"Topic7\", \"Topic7\", \"Topic7\", \"Topic7\", \"Topic7\", \"Topic7\", \"Topic7\", \"Topic7\", \"Topic7\", \"Topic7\", \"Topic7\", \"Topic7\", \"Topic7\", \"Topic7\", \"Topic7\", \"Topic7\", \"Topic7\", \"Topic7\", \"Topic7\", \"Topic7\", \"Topic7\", \"Topic7\", \"Topic7\", \"Topic7\", \"Topic7\", \"Topic7\", \"Topic7\", \"Topic7\", \"Topic7\", \"Topic7\", \"Topic7\", \"Topic7\", \"Topic7\", \"Topic7\", \"Topic7\", \"Topic7\", \"Topic7\", \"Topic7\", \"Topic7\", \"Topic7\", \"Topic7\", \"Topic8\", \"Topic8\", \"Topic8\", \"Topic8\", \"Topic8\", \"Topic8\", \"Topic8\", \"Topic8\", \"Topic8\", \"Topic8\", \"Topic8\", \"Topic8\", \"Topic8\", \"Topic8\", \"Topic8\", \"Topic8\", \"Topic8\", \"Topic8\", \"Topic8\", \"Topic8\", \"Topic8\", \"Topic8\", \"Topic8\", \"Topic8\", \"Topic8\", \"Topic8\", \"Topic8\", \"Topic8\", \"Topic8\", \"Topic8\", \"Topic8\", \"Topic8\", \"Topic8\", \"Topic8\", \"Topic8\", \"Topic8\", \"Topic8\", \"Topic9\", \"Topic9\", \"Topic9\", \"Topic9\", \"Topic9\", \"Topic9\", \"Topic9\", \"Topic9\", \"Topic9\", \"Topic9\", \"Topic9\", \"Topic9\", \"Topic9\", \"Topic9\", \"Topic9\", \"Topic9\", \"Topic9\", \"Topic9\", \"Topic9\", \"Topic9\", \"Topic9\", \"Topic9\", \"Topic9\", \"Topic9\", \"Topic9\", \"Topic9\", \"Topic9\", \"Topic9\", \"Topic9\", \"Topic9\", \"Topic9\", \"Topic9\", \"Topic9\", \"Topic9\", \"Topic9\", \"Topic9\", \"Topic9\", \"Topic9\", \"Topic9\", \"Topic9\", \"Topic9\", \"Topic9\", \"Topic9\", \"Topic9\", \"Topic9\", \"Topic9\", \"Topic9\", \"Topic10\", \"Topic10\", \"Topic10\", \"Topic10\", \"Topic10\", \"Topic10\", \"Topic10\", \"Topic10\", \"Topic10\", \"Topic10\", \"Topic10\", \"Topic10\", \"Topic10\", \"Topic10\", \"Topic10\", \"Topic10\", \"Topic10\", \"Topic10\", \"Topic10\", \"Topic10\", \"Topic10\", \"Topic10\", \"Topic10\", \"Topic10\", \"Topic10\", \"Topic10\", \"Topic10\", \"Topic10\", \"Topic10\", \"Topic10\", \"Topic10\", \"Topic10\", \"Topic10\", \"Topic10\", \"Topic10\", \"Topic10\", \"Topic10\", \"Topic10\", \"Topic10\", \"Topic10\", \"Topic10\", \"Topic10\", \"Topic10\", \"Topic10\", \"Topic10\", \"Topic10\", \"Topic10\", \"Topic10\"], \"Freq\": [3.0, 1.0, 1.0, 2.0, 1.0, 1.0, 1.0, 1.0, 0.0, 0.0, 0.0, 0.0, 1.0, 1.0, 1.0, 1.0, 1.0, 0.0, 0.0, 0.0, 0.0, 0.0, 0.0, 0.0, 0.0, 0.0, 0.0, 0.0, 0.0, 0.0, 0.679038405418396, 0.6790382266044617, 0.679038405418396, 0.679038405418396, 0.679038405418396, 0.679038405418396, 0.679038405418396, 0.679038405418396, 0.679038405418396, 0.6790382862091064, 0.6790382862091064, 0.6790382862091064, 0.6790382862091064, 0.6790382862091064, 0.6790382862091064, 0.6790382862091064, 0.6790382862091064, 0.6790382862091064, 0.6790382862091064, 0.6790382862091064, 0.6790382266044617, 0.6790382266044617, 0.6790351271629333, 0.6790326237678528, 0.6790398359298706, 0.6790329217910767, 0.061730772256851196, 0.061730772256851196, 0.061730772256851196, 0.061730772256851196, 0.06173078343272209, 0.06173078343272209, 0.06173078343272209, 0.06173078343272209, 0.5429965853691101, 0.5429965853691101, 0.5429965853691101, 0.5429965853691101, 0.5429965853691101, 0.5429965853691101, 0.5429965853691101, 0.5429965853691101, 0.5429965853691101, 0.5429965853691101, 0.5429960489273071, 0.5429974794387817, 0.5429998636245728, 0.04936333745718002, 0.04936333745718002, 0.04936333745718002, 0.04936333745718002, 0.04936333745718002, 0.04936333745718002, 0.04936333745718002, 0.04936333745718002, 0.04936333745718002, 0.04936333745718002, 0.04936333745718002, 0.04936333745718002, 0.04936334118247032, 0.04936333745718002, 0.04936333745718002, 0.04936333745718002, 0.04936333745718002, 0.04936333745718002, 0.04936334118247032, 0.049363356083631516, 0.04936335235834122, 0.04936333745718002, 0.04936333745718002, 0.04936333745718002, 0.04936333745718002, 0.04936333745718002, 0.04936333745718002, 0.04936333745718002, 0.04936333745718002, 0.04936333745718002, 0.04936333745718002, 0.04936333745718002, 0.049363333731889725, 0.04936334118247032, 0.04936333745718002, 0.04936333745718002, 0.48617151379585266, 0.48617151379585266, 0.48617151379585266, 0.48617151379585266, 0.48617151379585266, 0.4861714839935303, 0.4861714839935303, 0.4861714839935303, 0.4861757159233093, 0.04419741779565811, 0.04419741779565811, 0.04419741779565811, 0.04419741779565811, 0.04419742152094841, 0.04419742152094841, 0.04419742152094841, 0.04419741779565811, 0.04419741779565811, 0.04419741779565811, 0.04419741779565811, 0.04419741779565811, 0.04419742152094841, 0.04419741779565811, 0.04419741779565811, 0.04419741779565811, 0.04419741779565811, 0.04419741779565811, 0.04419741779565811, 0.04419742152094841, 0.04419741779565811, 0.0441974475979805, 0.04419741779565811, 0.04419741779565811, 0.04419741779565811, 0.04419741779565811, 0.04419741779565811, 0.04419741779565811, 0.04419741779565811, 0.04419741779565811, 0.04419741779565811, 0.04419742152094841, 0.04419741779565811, 0.04419742152094841, 0.04419741779565811, 0.04419742152094841, 0.04419742152094841, 0.6012002825737, 0.6012002825737, 0.6012002825737, 0.6012002825737, 0.6012002825737, 0.6012002825737, 0.6012003421783447, 0.6012003421783447, 0.6012002825737, 0.6012002825737, 0.6012002825737, 0.6012002825737, 0.6012002825737, 0.6012002825737, 0.6012018918991089, 0.6011993885040283, 0.6011995673179626, 0.6011976599693298, 0.05465458333492279, 0.05465458333492279, 0.05465458333492279, 0.05465458333492279, 0.05465458706021309, 0.05465458333492279, 0.05465458333492279, 0.05465458333492279, 0.05465458333492279, 0.05465458333492279, 0.05465458333492279, 0.05465458333492279, 0.05465461686253548, 0.054654598236083984, 0.054654594510793686, 0.054654594510793686, 0.054654594510793686, 0.054654594510793686, 0.054654594510793686, 0.05465460196137428, 0.054654598236083984, 0.05465458333492279, 0.05465458706021309, 0.05465458333492279, 0.643248975276947, 0.6432488560676575, 0.6432488560676575, 0.6432488560676575, 0.643248975276947, 0.6432488560676575, 0.643248975276947, 0.643248975276947, 0.643248975276947, 0.643248975276947, 0.643248975276947, 0.643248975276947, 0.643248975276947, 0.643248975276947, 0.6432488560676575, 0.6432461142539978, 0.6432461142539978, 0.6432449817657471, 0.6432498693466187, 0.6432467103004456, 0.6432401537895203, 0.05847718566656113, 0.05847718566656113, 0.05847718566656113, 0.05847718566656113, 0.05847718566656113, 0.05847718566656113, 0.05847718566656113, 0.05847718566656113, 0.05847718566656113, 0.05847718566656113, 0.05847718566656113, 0.05847718566656113, 0.05847721919417381, 0.058477193117141724, 0.05847719684243202, 0.058477193117141724, 0.058477193117141724, 0.058477193117141724, 0.05847720056772232, 0.058477193117141724, 0.058477193117141724, 0.6271686553955078, 0.6271686553955078, 0.6271686553955078, 0.6271686553955078, 0.6271686553955078, 0.6271686553955078, 0.6271686553955078, 0.6271686553955078, 0.6271686553955078, 0.6271686553955078, 0.6271686553955078, 0.6271684765815735, 0.6271684765815735, 0.6271684765815735, 0.6271682381629944, 1.7674885988235474, 0.6271649599075317, 0.6271672248840332, 0.6271657943725586, 0.05701533704996109, 0.05701533704996109, 0.05701533704996109, 0.05701533704996109, 0.05701533704996109, 0.05701533704996109, 0.05701533704996109, 0.05701533704996109, 0.05701533704996109, 0.05701532959938049, 0.05701533704996109, 0.05701533704996109, 0.05701533704996109, 0.05701533704996109, 0.05701533704996109, 0.05701533704996109, 0.05701532959938049, 0.05701533704996109, 0.05701533704996109, 0.05701533704996109, 0.05701533704996109, 0.05701533704996109, 0.42929232120513916, 0.42929232120513916, 0.42929232120513916, 0.42929232120513916, 0.42929428815841675, 0.42929428815841675, 0.4292943775653839, 0.03902658820152283, 0.03902658820152283, 0.03902658820152283, 0.03902658447623253, 0.03902658820152283, 0.03902658820152283, 0.03902658820152283, 0.03902658820152283, 0.039026591926813126, 0.039026591926813126, 0.039026591926813126, 0.039026591926813126, 0.03902658820152283, 0.03902658820152283, 0.03902658820152283, 0.03902658820152283, 0.039026595652103424, 0.03902658820152283, 0.03902658820152283, 0.03902658820152283, 0.03902658820152283, 0.03902658820152283, 0.03902658820152283, 0.03902661055326462, 0.03902658820152283, 0.03902658820152283, 0.03902658820152283, 0.03902658820152283, 0.03902658820152283, 0.03902658820152283, 0.03902658820152283, 0.039026591926813126, 0.03902658820152283, 0.03902658820152283, 0.03902658820152283, 0.039026595652103424, 0.03902658820152283, 0.03902658820152283, 0.03902658820152283, 0.03902658820152283, 0.6771050095558167, 0.6771050095558167, 0.6771050095558167, 0.6771050095558167, 0.6771050095558167, 0.6771050095558167, 0.6771050095558167, 0.6771050095558167, 0.6771050095558167, 0.6771050095558167, 0.6771050095558167, 0.6771050095558167, 0.6771050095558167, 0.6771050095558167, 0.6771050095558167, 0.6771050095558167, 0.6771050095558167, 0.6771050095558167, 0.6771050095558167, 0.6771050095558167, 0.6771050095558167, 0.6771038770675659, 0.6771038770675659, 0.6771073341369629, 0.061555005609989166, 0.061555005609989166, 0.061555005609989166, 0.061555005609989166, 0.061555005609989166, 0.061555005609989166, 0.061555005609989166, 0.06155501306056976, 0.06155501306056976, 0.06155501306056976, 0.06155501678586006, 0.06155502423644066, 0.06155501306056976, 0.5027005076408386, 0.5027005076408386, 0.5027005076408386, 0.5027005076408386, 0.5027005076408386, 0.5027005076408386, 0.5027005076408386, 0.5027005076408386, 0.5027012228965759, 0.5026991367340088, 0.5027033686637878, 0.045700058341026306, 0.045700058341026306, 0.045700058341026306, 0.045700058341026306, 0.045700058341026306, 0.045700058341026306, 0.045700058341026306, 0.045700058341026306, 0.045700058341026306, 0.045700058341026306, 0.045700058341026306, 0.045700058341026306, 0.0457000657916069, 0.0457000657916069, 0.045700058341026306, 0.045700058341026306, 0.045700058341026306, 0.045700058341026306, 0.045700058341026306, 0.045700058341026306, 0.0457000769674778, 0.0457000769674778, 0.0457000806927681, 0.045700058341026306, 0.045700058341026306, 0.045700058341026306, 0.045700058341026306, 0.045700058341026306, 0.0457000695168972, 0.0457000695168972, 0.045700058341026306, 0.045700058341026306, 0.045700058341026306, 0.045700058341026306, 0.045700058341026306, 0.045700058341026306, 0.5004397034645081, 0.5004397034645081, 0.5004397034645081, 0.5004397034645081, 0.5004397034645081, 0.5004397034645081, 0.5004397034645081, 0.5004397034645081, 0.5004405975341797, 0.5004405975341797, 0.5004439353942871, 0.04549453407526016, 0.04549453407526016, 0.04549453407526016, 0.04549453407526016, 0.04549453407526016, 0.04549453407526016, 0.04549453407526016, 0.04549453407526016, 0.04549453407526016, 0.04549453407526016, 0.04549453407526016, 0.04549453407526016, 0.04549453780055046, 0.04549453407526016, 0.04549453407526016, 0.04549453407526016, 0.04549453407526016, 0.04549453407526016, 0.04549453780055046, 0.04549453780055046, 0.04549454525113106, 0.04549454525113106, 0.04549456015229225, 0.04549454525113106, 0.04549453407526016, 0.04549453407526016, 0.04549453407526016, 0.04549453407526016, 0.04549453407526016, 0.04549453407526016, 0.04549453407526016, 0.04549453407526016, 0.04549453780055046, 0.04549453407526016, 0.04549453407526016, 0.04549453780055046, 0.04549453780055046], \"Term\": [\"system\", \"amplifier\", \"single\", \"network\", \"programmable\", \"multi\", \"study\", \"database\", \"end\", \"differential\", \"voltage\", \"fully\", \"phase\", \"algorithm\", \"application\", \"internet\", \"processing\", \"cross\", \"layer\", \"multimedia\", \"quality\", \"sensor\", \"service\", \"support\", \"wireless\", \"graphics\", \"programming\", \"shoot\", \"memory\", \"session\", \"camera\", \"dipzoom\", \"world\", \"using\", \"unspecified\", \"user\", \"gesture\", \"estimation\", \"compact\", \"marketplace\", \"measurement\", \"tunable\", \"analog\", \"array\", \"consist\", \"digitally\", \"persian\", \"hexagonal\", \"field\", \"speed\", \"experiment\", \"compression\", \"programmable\", \"internet\", \"technology\", \"system\", \"fully\", \"end\", \"differential\", \"voltage\", \"network\", \"hardware\", \"database\", \"integration\", \"parallel\", \"wavelet\", \"discrete\", \"interleave\", \"level\", \"transform\", \"tile\", \"image\", \"enable\", \"halftoning\", \"multi\", \"application\", \"processing\", \"differential\", \"end\", \"fully\", \"voltage\", \"wireless\", \"multimedia\", \"cross\", \"layer\", \"quality\", \"sensor\", \"service\", \"support\", \"programming\", \"memory\", \"change\", \"panel\", \"session\", \"shoot\", \"graphics\", \"dish\", \"system\", \"receiver\", \"scenario\", \"software\", \"relational\", \"space\", \"radio\", \"white\", \"automate\", \"clustering\", \"design\", \"dimensional\", \"unspecified\", \"amplifier\", \"table\", \"domain\", \"service\", \"support\", \"wireless\", \"quality\", \"layer\", \"multimedia\", \"cross\", \"sensor\", \"network\", \"voltage\", \"end\", \"fully\", \"differential\", \"session\", \"panel\", \"programming\", \"change\", \"memory\", \"shoot\", \"multilevel\", \"graphics\", \"integration\", \"table\", \"relational\", \"dimensional\", \"design\", \"clustering\", \"automate\", \"3.5-d\", \"tile\", \"dish\", \"space\", \"white\", \"scenario\", \"software\", \"receiver\", \"radio\", \"mix\", \"domain\", \"define\", \"architecture\", \"storage\", \"database\", \"parallel\", \"processing\", \"multi\", \"services\", \"opinion\", \"fluid\", \"integrating\", \"manage\", \"global\", \"vote\", \"community\", \"helpfulness\", \"online\", \"receive\", \"simulation\", \"packet\", \"model\", \"study\", \"application\", \"architecture\", \"network\", \"voltage\", \"fully\", \"end\", \"differential\", \"sensor\", \"wireless\", \"cross\", \"layer\", \"multimedia\", \"quality\", \"service\", \"support\", \"dish\", \"single\", \"hardware\", \"organization\", \"database\", \"dipzoom\", \"integration\", \"system\", \"internet\", \"white\", \"transform\", \"clustering\", \"scenario\", \"audio\", \"white\", \"nonnumeric\", \"sigma\", \"delta\", \"define\", \"domain\", \"mix\", \"radio\", \"receiver\", \"class\", \"software\", \"space\", \"organization\", \"amplifier\", \"single\", \"processing\", \"architecture\", \"hardware\", \"system\", \"differential\", \"voltage\", \"fully\", \"end\", \"wireless\", \"multimedia\", \"cross\", \"layer\", \"quality\", \"support\", \"service\", \"sensor\", \"dish\", \"persian\", \"experiment\", \"programmable\", \"dipzoom\", \"apply\", \"internet\", \"measurement\", \"database\", \"remotely\", \"power\", \"animal\", \"freely\", \"social\", \"recommender\", \"context\", \"aware\", \"aid\", \"intelligent\", \"move\", \"storage\", \"apply\", \"telemetry\", \"dish\", \"system\", \"database\", \"technology\", \"network\", \"differential\", \"voltage\", \"fully\", \"end\", \"cross\", \"quality\", \"service\", \"support\", \"sensor\", \"wireless\", \"multimedia\", \"automate\", \"receiver\", \"white\", \"space\", \"software\", \"scenario\", \"design\", \"radio\", \"mix\", \"clustering\", \"parallel\", \"fully\", \"voltage\", \"differential\", \"end\", \"amplifier\", \"single\", \"programmable\", \"quality\", \"service\", \"support\", \"wireless\", \"cross\", \"sensor\", \"layer\", \"multimedia\", \"panel\", \"change\", \"programming\", \"graphics\", \"shoot\", \"session\", \"memory\", \"multilevel\", \"integration\", \"table\", \"relational\", \"dimensional\", \"design\", \"clustering\", \"automate\", \"dish\", \"scenario\", \"software\", \"receiver\", \"radio\", \"mix\", \"domain\", \"define\", \"architecture\", \"space\", \"white\", \"multi\", \"database\", \"discrete\", \"interleave\", \"level\", \"tile\", \"analysis\", \"contextual\", \"efficiency\", \"efficient\", \"early\", \"capacitor\", \"switching\", \"reset\", \"merge\", \"enhance\", \"energy\", \"3-parallel\", \"digital\", \"filter\", \"implementation\", \"length\", \"linear\", \"textual\", \"sentiment\", \"pattern\", \"microblogs\", \"algorithm\", \"phase\", \"hardware\", \"differential\", \"voltage\", \"fully\", \"end\", \"wireless\", \"cross\", \"layer\", \"programmable\", \"single\", \"multi\", \"dipzoom\", \"internet\", \"measurement\", \"table\", \"dimensional\", \"relational\", \"automate\", \"clustering\", \"design\", \"integration\", \"3.5-d\", \"multi\", \"study\", \"database\", \"differential\", \"end\", \"fully\", \"voltage\", \"wireless\", \"quality\", \"cross\", \"layer\", \"multimedia\", \"sensor\", \"service\", \"support\", \"memory\", \"change\", \"programming\", \"panel\", \"session\", \"shoot\", \"multilevel\", \"graphics\", \"internet\", \"network\", \"dish\", \"space\", \"white\", \"user\", \"software\", \"unspecified\", \"technology\", \"system\", \"scenario\", \"speed\", \"gesture\", \"estimation\", \"amplifier\", \"radio\", \"programming\", \"change\", \"multilevel\", \"memory\", \"panel\", \"session\", \"shoot\", \"graphics\", \"algorithm\", \"phase\", \"internet\", \"voltage\", \"end\", \"differential\", \"fully\", \"wireless\", \"quality\", \"cross\", \"layer\", \"multimedia\", \"sensor\", \"service\", \"support\", \"dimensional\", \"table\", \"automate\", \"clustering\", \"design\", \"relational\", \"integration\", \"3.5-d\", \"compression\", \"study\", \"dish\", \"system\", \"receiver\", \"radio\", \"mix\", \"domain\", \"scenario\", \"software\", \"parallel\", \"space\", \"architecture\", \"interleave\", \"discrete\", \"single\", \"programmable\"], \"Total\": [3.0, 1.0, 1.0, 2.0, 1.0, 1.0, 1.0, 1.0, 0.0, 0.0, 0.0, 0.0, 1.0, 1.0, 1.0, 1.0, 1.0, 0.0, 0.0, 0.0, 0.0, 0.0, 0.0, 0.0, 0.0, 0.0, 0.0, 0.0, 0.0, 0.0, 1.134522557258606, 1.1345223188400269, 1.134522557258606, 1.134522557258606, 1.134522557258606, 1.134522557258606, 1.134522557258606, 1.134522557258606, 1.134522557258606, 1.1345224380493164, 1.1345224380493164, 1.1345224380493164, 1.1345224380493164, 1.1345224380493164, 1.1345224380493164, 1.1345224380493164, 1.1345224380493164, 1.1345224380493164, 1.1345224380493164, 1.1345224380493164, 1.1345224380493164, 1.1345224380493164, 1.5247870683670044, 1.5894662141799927, 1.7046759128570557, 3.429753065109253, 0.9074805974960327, 0.9074805974960327, 0.9074805974960327, 0.9074805974960327, 2.0758867263793945, 1.7175368070602417, 1.544367790222168, 0.9742153286933899, 1.0108481645584106, 1.0108481645584106, 1.0108481645584106, 1.0108481645584106, 1.0108481645584106, 1.0108481645584106, 1.0108481645584106, 1.0108481645584106, 1.0108481645584106, 1.0108481645584106, 1.467848777770996, 1.5573939085006714, 1.5956193208694458, 0.9074805974960327, 0.9074805974960327, 0.9074805974960327, 0.9074805974960327, 0.9591888785362244, 0.9591889381408691, 0.9591889381408691, 0.9591889381408691, 0.9591889381408691, 0.9591889381408691, 0.9591889381408691, 0.9591889381408691, 0.9721599817276001, 0.9721599817276001, 0.9721599817276001, 0.9721599817276001, 0.9721599817276001, 0.9721599817276001, 0.9721600413322449, 1.0873680114746094, 3.429753065109253, 1.1019866466522217, 1.1019866466522217, 1.1019866466522217, 0.9742152690887451, 1.1019866466522217, 1.1019866466522217, 1.1019865274429321, 0.9742152690887451, 0.9742152690887451, 0.9742152690887451, 0.9742152690887451, 1.134522557258606, 1.4922515153884888, 0.9742152690887451, 1.1019866466522217, 0.9591889381408691, 0.9591889381408691, 0.9591888785362244, 0.9591889381408691, 0.9591889381408691, 0.9591889381408691, 0.9591889381408691, 0.9591889381408691, 2.0758867263793945, 0.9074805974960327, 0.9074805974960327, 0.9074805974960327, 0.9074805974960327, 0.9721599817276001, 0.9721599817276001, 0.9721599817276001, 0.9721599817276001, 0.9721599817276001, 0.9721599817276001, 0.9721599817276001, 0.9721600413322449, 0.9742153286933899, 0.9742152690887451, 0.9742152690887451, 0.9742152690887451, 0.9742152690887451, 0.9742152690887451, 0.9742152690887451, 0.9742153882980347, 1.0108481645584106, 1.0873680114746094, 1.1019866466522217, 1.1019865274429321, 1.1019866466522217, 1.1019866466522217, 1.1019866466522217, 1.1019866466522217, 1.1019866466522217, 1.1019866466522217, 1.1019866466522217, 1.648532509803772, 1.0873680114746094, 1.544367790222168, 1.0108481645584106, 1.5956193208694458, 1.467848777770996, 1.06376051902771, 1.06376051902771, 1.06376051902771, 1.06376051902771, 1.06376051902771, 1.06376051902771, 1.0637606382369995, 1.0637606382369995, 1.06376051902771, 1.06376051902771, 1.0637606382369995, 1.0637606382369995, 1.0637606382369995, 1.0637606382369995, 1.5207613706588745, 1.5573939085006714, 1.648532509803772, 2.0758867263793945, 0.9074805974960327, 0.9074805974960327, 0.9074805974960327, 0.9074805974960327, 0.9591889381408691, 0.9591888785362244, 0.9591889381408691, 0.9591889381408691, 0.9591889381408691, 0.9591889381408691, 0.9591889381408691, 0.9591889381408691, 1.0873680114746094, 1.4922515153884888, 1.7175368070602417, 1.1019866466522217, 1.544367790222168, 1.1345223188400269, 0.9742153286933899, 3.429753065109253, 1.5894662141799927, 1.1019865274429321, 1.0108481645584106, 0.9742152690887451, 1.1019866466522217, 1.1019865274429321, 1.1019865274429321, 1.1019865274429321, 1.1019866466522217, 1.1019865274429321, 1.1019866466522217, 1.1019866466522217, 1.1019866466522217, 1.1019866466522217, 1.1019866466522217, 1.1019866466522217, 1.1019866466522217, 1.1019866466522217, 1.1019866466522217, 1.4922515153884888, 1.4922515153884888, 1.5956193208694458, 1.648532509803772, 1.7175368070602417, 3.429753065109253, 0.9074805974960327, 0.9074805974960327, 0.9074805974960327, 0.9074805974960327, 0.9591888785362244, 0.9591889381408691, 0.9591889381408691, 0.9591889381408691, 0.9591889381408691, 0.9591889381408691, 0.9591889381408691, 0.9591889381408691, 1.0873680114746094, 1.1345224380493164, 1.1345224380493164, 1.5247870683670044, 1.1345223188400269, 1.0873680114746094, 1.5894662141799927, 1.1345224380493164, 1.544367790222168, 1.0873682498931885, 1.0873682498931885, 1.0873682498931885, 1.0873682498931885, 1.0873682498931885, 1.0873682498931885, 1.0873682498931885, 1.0873682498931885, 1.0873682498931885, 1.0873682498931885, 1.0873682498931885, 1.0873680114746094, 1.0873680114746094, 1.0873680114746094, 1.0873680114746094, 3.429753065109253, 1.544367790222168, 1.7046759128570557, 2.0758867263793945, 0.9074805974960327, 0.9074805974960327, 0.9074805974960327, 0.9074805974960327, 0.9591889381408691, 0.9591889381408691, 0.9591889381408691, 0.9591889381408691, 0.9591889381408691, 0.9591888785362244, 0.9591889381408691, 0.9742152690887451, 1.1019866466522217, 1.1019865274429321, 1.1019866466522217, 1.1019866466522217, 1.1019866466522217, 0.9742152690887451, 1.1019866466522217, 1.1019866466522217, 0.9742152690887451, 1.0108481645584106, 0.9074805974960327, 0.9074805974960327, 0.9074805974960327, 0.9074805974960327, 1.4922515153884888, 1.4922515153884888, 1.5247870683670044, 0.9591889381408691, 0.9591889381408691, 0.9591889381408691, 0.9591888785362244, 0.9591889381408691, 0.9591889381408691, 0.9591889381408691, 0.9591889381408691, 0.9721599817276001, 0.9721599817276001, 0.9721599817276001, 0.9721600413322449, 0.9721599817276001, 0.9721599817276001, 0.9721599817276001, 0.9721599817276001, 0.9742153286933899, 0.9742152690887451, 0.9742152690887451, 0.9742152690887451, 0.9742152690887451, 0.9742152690887451, 0.9742152690887451, 1.0873680114746094, 1.1019866466522217, 1.1019866466522217, 1.1019866466522217, 1.1019866466522217, 1.1019866466522217, 1.1019866466522217, 1.1019866466522217, 1.648532509803772, 1.1019866466522217, 1.1019865274429321, 1.467848777770996, 1.544367790222168, 1.0108481645584106, 1.0108481645584106, 1.0108481645584106, 1.0108481645584106, 1.1327648162841797, 1.1327648162841797, 1.1327648162841797, 1.1327648162841797, 1.1327648162841797, 1.1327648162841797, 1.1327648162841797, 1.1327648162841797, 1.1327648162841797, 1.1327648162841797, 1.1327648162841797, 1.1327648162841797, 1.1327648162841797, 1.1327648162841797, 1.1327648162841797, 1.1327648162841797, 1.1327648162841797, 1.1327648162841797, 1.1327648162841797, 1.1327648162841797, 1.1327648162841797, 1.5877097845077515, 1.5877097845077515, 1.7175368070602417, 0.9074805974960327, 0.9074805974960327, 0.9074805974960327, 0.9074805974960327, 0.9591888785362244, 0.9591889381408691, 0.9591889381408691, 1.5247870683670044, 1.4922515153884888, 1.467848777770996, 1.1345223188400269, 1.5894662141799927, 1.1345224380493164, 0.9742152690887451, 0.9742152690887451, 0.9742152690887451, 0.9742152690887451, 0.9742152690887451, 0.9742152690887451, 0.9742153286933899, 0.9742153882980347, 1.467848777770996, 1.5207613706588745, 1.544367790222168, 0.9074805974960327, 0.9074805974960327, 0.9074805974960327, 0.9074805974960327, 0.9591888785362244, 0.9591889381408691, 0.9591889381408691, 0.9591889381408691, 0.9591889381408691, 0.9591889381408691, 0.9591889381408691, 0.9591889381408691, 0.9721599817276001, 0.9721599817276001, 0.9721599817276001, 0.9721599817276001, 0.9721599817276001, 0.9721599817276001, 0.9721599817276001, 0.9721600413322449, 1.5894662141799927, 2.0758867263793945, 1.0873680114746094, 1.1019866466522217, 1.1019865274429321, 1.134522557258606, 1.1019866466522217, 1.134522557258606, 1.7046759128570557, 3.429753065109253, 1.1019866466522217, 1.1345224380493164, 1.134522557258606, 1.134522557258606, 1.4922515153884888, 1.1019866466522217, 0.9721599817276001, 0.9721599817276001, 0.9721599817276001, 0.9721599817276001, 0.9721599817276001, 0.9721599817276001, 0.9721599817276001, 0.9721600413322449, 1.5877097845077515, 1.5877097845077515, 1.5894662141799927, 0.9074805974960327, 0.9074805974960327, 0.9074805974960327, 0.9074805974960327, 0.9591888785362244, 0.9591889381408691, 0.9591889381408691, 0.9591889381408691, 0.9591889381408691, 0.9591889381408691, 0.9591889381408691, 0.9591889381408691, 0.9742152690887451, 0.9742152690887451, 0.9742152690887451, 0.9742152690887451, 0.9742152690887451, 0.9742152690887451, 0.9742153286933899, 0.9742153882980347, 1.1345224380493164, 1.5207613706588745, 1.0873680114746094, 3.429753065109253, 1.1019866466522217, 1.1019866466522217, 1.1019866466522217, 1.1019866466522217, 1.1019866466522217, 1.1019866466522217, 1.0108481645584106, 1.1019866466522217, 1.648532509803772, 1.0108481645584106, 1.0108481645584106, 1.4922515153884888, 1.5247870683670044], \"loglift\": [30.0, 29.0, 28.0, 27.0, 26.0, 25.0, 24.0, 23.0, 22.0, 21.0, 20.0, 19.0, 18.0, 17.0, 16.0, 15.0, 14.0, 13.0, 12.0, 11.0, 10.0, 9.0, 8.0, 7.0, 6.0, 5.0, 4.0, 3.0, 2.0, 1.0, 1.3590999841690063, 1.3590999841690063, 1.3590999841690063, 1.3590999841690063, 1.3590999841690063, 1.3590999841690063, 1.3590999841690063, 1.3590999841690063, 1.3590999841690063, 1.3590999841690063, 1.3590999841690063, 1.3590999841690063, 1.3590999841690063, 1.3590999841690063, 1.3590999841690063, 1.3590999841690063, 1.3590999841690063, 1.3590999841690063, 1.3590999841690063, 1.3590999841690063, 1.3590999841690063, 1.3590999841690063, 1.0635000467300415, 1.0219000577926636, 0.9520000219345093, 0.25279998779296875, -0.815500020980835, -0.815500020980835, -0.815500020980835, -0.815500020980835, -1.642899990081787, -1.4534000158309937, -1.3472000360488892, -0.8863999843597412, 1.8664000034332275, 1.8664000034332275, 1.8664000034332275, 1.8664000034332275, 1.8664000034332275, 1.8664000034332275, 1.8664000034332275, 1.8664000034332275, 1.8664000034332275, 1.8664000034332275, 1.493399977684021, 1.4342000484466553, 1.4098999500274658, -0.4235999882221222, -0.4235999882221222, -0.4235999882221222, -0.4235999882221222, -0.4790000021457672, -0.4790000021457672, -0.4790000021457672, -0.4790000021457672, -0.4790000021457672, -0.4790000021457672, -0.4790000021457672, -0.4790000021457672, -0.4925000071525574, -0.4925000071525574, -0.4925000071525574, -0.4925000071525574, -0.4925000071525574, -0.4925000071525574, -0.4925000071525574, -0.6044999957084656, -1.7532000541687012, -0.6177999973297119, -0.6177999973297119, -0.6177999973297119, -0.49459999799728394, -0.6177999973297119, -0.6177999973297119, -0.6177999973297119, -0.49459999799728394, -0.49459999799728394, -0.49459999799728394, -0.49459999799728394, -0.6468999981880188, -0.9210000038146973, -0.49459999799728394, -0.6177999973297119, 2.0785000324249268, 2.0785000324249268, 2.0785000324249268, 2.0785000324249268, 2.0785000324249268, 2.0785000324249268, 2.0785000324249268, 2.0785000324249268, 1.30649995803833, -0.2639000117778778, -0.2639000117778778, -0.2639000117778778, -0.2639000117778778, -0.3328000009059906, -0.3328000009059906, -0.3328000009059906, -0.3328000009059906, -0.3328000009059906, -0.3328000009059906, -0.3328000009059906, -0.3328000009059906, -0.33489999175071716, -0.33489999175071716, -0.33489999175071716, -0.33489999175071716, -0.33489999175071716, -0.33489999175071716, -0.33489999175071716, -0.33489999175071716, -0.3718000054359436, -0.4447999894618988, -0.45809999108314514, -0.45809999108314514, -0.45809999108314514, -0.45809999108314514, -0.45809999108314514, -0.45809999108314514, -0.45809999108314514, -0.45809999108314514, -0.45809999108314514, -0.8608999848365784, -0.4447999894618988, -0.7955999970436096, -0.3718000054359436, -0.8282999992370605, -0.7447999715805054, 1.6460000276565552, 1.6460000276565552, 1.6460000276565552, 1.6460000276565552, 1.6460000276565552, 1.6460000276565552, 1.6460000276565552, 1.6460000276565552, 1.6460000276565552, 1.6460000276565552, 1.6460000276565552, 1.6460000276565552, 1.6460000276565552, 1.6460000276565552, 1.288699984550476, 1.264799952507019, 1.2079999446868896, 0.9775000214576721, -0.5929999947547913, -0.5929999947547913, -0.5929999947547913, -0.5929999947547913, -0.6484000086784363, -0.6484000086784363, -0.6484000086784363, -0.6484000086784363, -0.6484000086784363, -0.6484000086784363, -0.6484000086784363, -0.6484000086784363, -0.7738000154495239, -1.0902999639511108, -1.2309000492095947, -0.7871999740600586, -1.1246999502182007, -0.8162000179290771, -0.6639000177383423, -1.9225000143051147, -1.15339994430542, -0.7871999740600586, -0.7008000016212463, -0.6639000177383423, 1.521399974822998, 1.521399974822998, 1.521399974822998, 1.521399974822998, 1.521399974822998, 1.521399974822998, 1.521399974822998, 1.521399974822998, 1.521399974822998, 1.521399974822998, 1.521399974822998, 1.521399974822998, 1.521399974822998, 1.521399974822998, 1.521399974822998, 1.2181999683380127, 1.2181999683380127, 1.1512000560760498, 1.1186000108718872, 1.0776000022888184, 0.38600000739097595, -0.6822999715805054, -0.6822999715805054, -0.6822999715805054, -0.6822999715805054, -0.7376999855041504, -0.7376999855041504, -0.7376999855041504, -0.7376999855041504, -0.7376999855041504, -0.7376999855041504, -0.7376999855041504, -0.7376999855041504, -0.863099992275238, -0.9056000113487244, -0.9056000113487244, -1.201200008392334, -0.9056000113487244, -0.863099992275238, -1.242799997329712, -0.9056000113487244, -1.2139999866485596, 1.5348000526428223, 1.5348000526428223, 1.5348000526428223, 1.5348000526428223, 1.5348000526428223, 1.5348000526428223, 1.5348000526428223, 1.5348000526428223, 1.5348000526428223, 1.5348000526428223, 1.5348000526428223, 1.5348000526428223, 1.5348000526428223, 1.5348000526428223, 1.5348000526428223, 1.4220999479293823, 1.183899998664856, 1.0851000547409058, 0.8881000280380249, -0.6822999715805054, -0.6822999715805054, -0.6822999715805054, -0.6822999715805054, -0.7376999855041504, -0.7376999855041504, -0.7376999855041504, -0.7376999855041504, -0.7376999855041504, -0.7376999855041504, -0.7376999855041504, -0.7533000111579895, -0.8765000104904175, -0.8765000104904175, -0.8765000104904175, -0.8765000104904175, -0.8765000104904175, -0.7533000111579895, -0.8765000104904175, -0.8765000104904175, -0.7533000111579895, -0.7901999950408936, 2.2244999408721924, 2.2244999408721924, 2.2244999408721924, 2.2244999408721924, 1.7272000312805176, 1.7272000312805176, 1.7056000232696533, -0.2287999987602234, -0.2287999987602234, -0.2287999987602234, -0.2287999987602234, -0.2287999987602234, -0.2287999987602234, -0.2287999987602234, -0.2287999987602234, -0.24220000207424164, -0.24220000207424164, -0.24220000207424164, -0.24220000207424164, -0.24220000207424164, -0.24220000207424164, -0.24220000207424164, -0.24220000207424164, -0.2442999929189682, -0.2442999929189682, -0.2442999929189682, -0.2442999929189682, -0.2442999929189682, -0.2442999929189682, -0.2442999929189682, -0.35420000553131104, -0.3675999939441681, -0.3675999939441681, -0.3675999939441681, -0.3675999939441681, -0.3675999939441681, -0.3675999939441681, -0.3675999939441681, -0.7702999711036682, -0.3675999939441681, -0.3675999939441681, -0.6542999744415283, -0.7050999999046326, -0.28119999170303345, -0.28119999170303345, -0.28119999170303345, -0.28119999170303345, 1.4118000268936157, 1.4118000268936157, 1.4118000268936157, 1.4118000268936157, 1.4118000268936157, 1.4118000268936157, 1.4118000268936157, 1.4118000268936157, 1.4118000268936157, 1.4118000268936157, 1.4118000268936157, 1.4118000268936157, 1.4118000268936157, 1.4118000268936157, 1.4118000268936157, 1.4118000268936157, 1.4118000268936157, 1.4118000268936157, 1.4118000268936157, 1.4118000268936157, 1.4118000268936157, 1.0742000341415405, 1.0742000341415405, 0.9955999851226807, -0.7642999887466431, -0.7642999887466431, -0.7642999887466431, -0.7642999887466431, -0.8197000026702881, -0.8197000026702881, -0.8197000026702881, -1.2832000255584717, -1.2617000341415405, -1.2452000379562378, -0.9876000285148621, -1.3248000144958496, -0.9876000285148621, 1.9800000190734863, 1.9800000190734863, 1.9800000190734863, 1.9800000190734863, 1.9800000190734863, 1.9800000190734863, 1.9800000190734863, 1.9800000190734863, 1.5700000524520874, 1.534600019454956, 1.5191999673843384, -0.34700000286102295, -0.34700000286102295, -0.34700000286102295, -0.34700000286102295, -0.4023999869823456, -0.4023999869823456, -0.4023999869823456, -0.4023999869823456, -0.4023999869823456, -0.4023999869823456, -0.4023999869823456, -0.4023999869823456, -0.415800005197525, -0.415800005197525, -0.415800005197525, -0.415800005197525, -0.415800005197525, -0.415800005197525, -0.415800005197525, -0.415800005197525, -0.9074000120162964, -1.174399971961975, -0.5278000235557556, -0.5411999821662903, -0.5411999821662903, -0.5702999830245972, -0.5411999821662903, -0.5702999830245972, -0.977400004863739, -1.6764999628067017, -0.5411999821662903, -0.5702999830245972, -0.5702999830245972, -0.5702999830245972, -0.8442999720573425, -0.5411999821662903, 1.982100009918213, 1.982100009918213, 1.982100009918213, 1.982100009918213, 1.982100009918213, 1.982100009918213, 1.982100009918213, 1.982100009918213, 1.4916000366210938, 1.4916000366210938, 1.4904999732971191, -0.34700000286102295, -0.34700000286102295, -0.34700000286102295, -0.34700000286102295, -0.4023999869823456, -0.4023999869823456, -0.4023999869823456, -0.4023999869823456, -0.4023999869823456, -0.4023999869823456, -0.4023999869823456, -0.4023999869823456, -0.4178999960422516, -0.4178999960422516, -0.4178999960422516, -0.4178999960422516, -0.4178999960422516, -0.4178999960422516, -0.4178999960422516, -0.4178999960422516, -0.5702999830245972, -0.8633000254631042, -0.5278000235557556, -1.6764999628067017, -0.5411999821662903, -0.5411999821662903, -0.5411999821662903, -0.5411999821662903, -0.5411999821662903, -0.5411999821662903, -0.454800009727478, -0.5411999821662903, -0.9438999891281128, -0.454800009727478, -0.454800009727478, -0.8442999720573425, -0.8658999800682068], \"logprob\": [30.0, 29.0, 28.0, 27.0, 26.0, 25.0, 24.0, 23.0, 22.0, 21.0, 20.0, 19.0, 18.0, 17.0, 16.0, 15.0, 14.0, 13.0, 12.0, 11.0, 10.0, 9.0, 8.0, 7.0, 6.0, 5.0, 4.0, 3.0, 2.0, 1.0, -3.596100091934204, -3.596100091934204, -3.596100091934204, -3.596100091934204, -3.596100091934204, -3.596100091934204, -3.596100091934204, -3.596100091934204, -3.596100091934204, -3.596100091934204, -3.596100091934204, -3.596100091934204, -3.596100091934204, -3.596100091934204, -3.596100091934204, -3.596100091934204, -3.596100091934204, -3.596100091934204, -3.596100091934204, -3.596100091934204, -3.596100091934204, -3.596100091934204, -3.596100091934204, -3.596100091934204, -3.596100091934204, -3.596100091934204, -5.99399995803833, -5.99399995803833, -5.99399995803833, -5.99399995803833, -5.99399995803833, -5.99399995803833, -5.99399995803833, -5.99399995803833, -3.204200029373169, -3.204200029373169, -3.204200029373169, -3.204200029373169, -3.204200029373169, -3.204200029373169, -3.204200029373169, -3.204200029373169, -3.204200029373169, -3.204200029373169, -3.204200029373169, -3.204200029373169, -3.204200029373169, -5.602099895477295, -5.602099895477295, -5.602099895477295, -5.602099895477295, -5.602099895477295, -5.602099895477295, -5.602099895477295, -5.602099895477295, -5.602099895477295, -5.602099895477295, -5.602099895477295, -5.602099895477295, -5.602099895477295, -5.602099895477295, -5.602099895477295, -5.602099895477295, -5.602099895477295, -5.602099895477295, -5.602099895477295, -5.602099895477295, -5.602099895477295, -5.602099895477295, -5.602099895477295, -5.602099895477295, -5.602099895477295, -5.602099895477295, -5.602099895477295, -5.602099895477295, -5.602099895477295, -5.602099895477295, -5.602099895477295, -5.602099895477295, -5.602099895477295, -5.602099895477295, -5.602099895477295, -5.602099895477295, -3.0445001125335693, -3.0445001125335693, -3.0445001125335693, -3.0445001125335693, -3.0445001125335693, -3.0445001125335693, -3.0445001125335693, -3.0445001125335693, -3.0445001125335693, -5.442399978637695, -5.442399978637695, -5.442399978637695, -5.442399978637695, -5.442399978637695, -5.442399978637695, -5.442399978637695, -5.442399978637695, -5.442399978637695, -5.442399978637695, -5.442399978637695, -5.442399978637695, -5.442399978637695, -5.442399978637695, -5.442399978637695, -5.442399978637695, -5.442399978637695, -5.442399978637695, -5.442399978637695, -5.442399978637695, -5.442399978637695, -5.442399978637695, -5.442399978637695, -5.442399978637695, -5.442399978637695, -5.442399978637695, -5.442399978637695, -5.442399978637695, -5.442399978637695, -5.442399978637695, -5.442399978637695, -5.442399978637695, -5.442399978637695, -5.442399978637695, -5.442399978637695, -5.442399978637695, -5.442399978637695, -3.373500108718872, -3.373500108718872, -3.373500108718872, -3.373500108718872, -3.373500108718872, -3.373500108718872, -3.373500108718872, -3.373500108718872, -3.373500108718872, -3.373500108718872, -3.373500108718872, -3.373500108718872, -3.373500108718872, -3.373500108718872, -3.373500108718872, -3.373500108718872, -3.373500108718872, -3.3736000061035156, -5.771399974822998, -5.771399974822998, -5.771399974822998, -5.771399974822998, -5.771399974822998, -5.771399974822998, -5.771399974822998, -5.771399974822998, -5.771399974822998, -5.771399974822998, -5.771399974822998, -5.771399974822998, -5.771399974822998, -5.771399974822998, -5.771399974822998, -5.771399974822998, -5.771399974822998, -5.771399974822998, -5.771399974822998, -5.771399974822998, -5.771399974822998, -5.771399974822998, -5.771399974822998, -5.771399974822998, -3.462899923324585, -3.462899923324585, -3.462899923324585, -3.462899923324585, -3.462899923324585, -3.462899923324585, -3.462899923324585, -3.462899923324585, -3.462899923324585, -3.462899923324585, -3.462899923324585, -3.462899923324585, -3.462899923324585, -3.462899923324585, -3.462899923324585, -3.462899923324585, -3.462899923324585, -3.462899923324585, -3.462899923324585, -3.462899923324585, -3.462899923324585, -5.860799789428711, -5.860799789428711, -5.860799789428711, -5.860799789428711, -5.860799789428711, -5.860799789428711, -5.860799789428711, -5.860799789428711, -5.860799789428711, -5.860799789428711, -5.860799789428711, -5.860799789428711, -5.860799789428711, -5.860799789428711, -5.860799789428711, -5.860799789428711, -5.860799789428711, -5.860799789428711, -5.860799789428711, -5.860799789428711, -5.860799789428711, -3.462899923324585, -3.462899923324585, -3.462899923324585, -3.462899923324585, -3.462899923324585, -3.462899923324585, -3.462899923324585, -3.462899923324585, -3.462899923324585, -3.462899923324585, -3.462899923324585, -3.462899923324585, -3.462899923324585, -3.462899923324585, -3.462899923324585, -2.426800012588501, -3.462899923324585, -3.462899923324585, -3.462899923324585, -5.860799789428711, -5.860799789428711, -5.860799789428711, -5.860799789428711, -5.860799789428711, -5.860799789428711, -5.860799789428711, -5.860799789428711, -5.860799789428711, -5.860799789428711, -5.860799789428711, -5.860799789428711, -5.860799789428711, -5.860799789428711, -5.860799789428711, -5.860799789428711, -5.860799789428711, -5.860799789428711, -5.860799789428711, -5.860799789428711, -5.860799789428711, -5.860799789428711, -2.9539999961853027, -2.9539999961853027, -2.9539999961853027, -2.9539999961853027, -2.9539999961853027, -2.9539999961853027, -2.9539999961853027, -5.351900100708008, -5.351900100708008, -5.351900100708008, -5.351900100708008, -5.351900100708008, -5.351900100708008, -5.351900100708008, -5.351900100708008, -5.351900100708008, -5.351900100708008, -5.351900100708008, -5.351900100708008, -5.351900100708008, -5.351900100708008, -5.351900100708008, -5.351900100708008, -5.351900100708008, -5.351900100708008, -5.351900100708008, -5.351900100708008, -5.351900100708008, -5.351900100708008, -5.351900100708008, -5.351900100708008, -5.351900100708008, -5.351900100708008, -5.351900100708008, -5.351900100708008, -5.351900100708008, -5.351900100708008, -5.351900100708008, -5.351900100708008, -5.351900100708008, -5.351900100708008, -5.351900100708008, -5.351900100708008, -5.351900100708008, -5.351900100708008, -5.351900100708008, -5.351900100708008, -3.5448999404907227, -3.5448999404907227, -3.5448999404907227, -3.5448999404907227, -3.5448999404907227, -3.5448999404907227, -3.5448999404907227, -3.5448999404907227, -3.5448999404907227, -3.5448999404907227, -3.5448999404907227, -3.5448999404907227, -3.5448999404907227, -3.5448999404907227, -3.5448999404907227, -3.5448999404907227, -3.5448999404907227, -3.5448999404907227, -3.5448999404907227, -3.5448999404907227, -3.5448999404907227, -3.5448999404907227, -3.5448999404907227, -3.5448999404907227, -5.942800045013428, -5.942800045013428, -5.942800045013428, -5.942800045013428, -5.942800045013428, -5.942800045013428, -5.942800045013428, -5.942800045013428, -5.942800045013428, -5.942800045013428, -5.942800045013428, -5.942800045013428, -5.942800045013428, -3.1275999546051025, -3.1275999546051025, -3.1275999546051025, -3.1275999546051025, -3.1275999546051025, -3.1275999546051025, -3.1275999546051025, -3.1275999546051025, -3.1275999546051025, -3.1275999546051025, -3.1275999546051025, -5.5254998207092285, -5.5254998207092285, -5.5254998207092285, -5.5254998207092285, -5.5254998207092285, -5.5254998207092285, -5.5254998207092285, -5.5254998207092285, -5.5254998207092285, -5.5254998207092285, -5.5254998207092285, -5.5254998207092285, -5.5254998207092285, -5.5254998207092285, -5.5254998207092285, -5.5254998207092285, -5.5254998207092285, -5.5254998207092285, -5.5254998207092285, -5.5254998207092285, -5.5254998207092285, -5.5254998207092285, -5.5254998207092285, -5.5254998207092285, -5.5254998207092285, -5.5254998207092285, -5.5254998207092285, -5.5254998207092285, -5.5254998207092285, -5.5254998207092285, -5.5254998207092285, -5.5254998207092285, -5.5254998207092285, -5.5254998207092285, -5.5254998207092285, -5.5254998207092285, -3.1275999546051025, -3.1275999546051025, -3.1275999546051025, -3.1275999546051025, -3.1275999546051025, -3.1275999546051025, -3.1275999546051025, -3.1275999546051025, -3.1275999546051025, -3.1275999546051025, -3.1275999546051025, -5.5254998207092285, -5.5254998207092285, -5.5254998207092285, -5.5254998207092285, -5.5254998207092285, -5.5254998207092285, -5.5254998207092285, -5.5254998207092285, -5.5254998207092285, -5.5254998207092285, -5.5254998207092285, -5.5254998207092285, -5.5254998207092285, -5.5254998207092285, -5.5254998207092285, -5.5254998207092285, -5.5254998207092285, -5.5254998207092285, -5.5254998207092285, -5.5254998207092285, -5.5254998207092285, -5.5254998207092285, -5.5254998207092285, -5.5254998207092285, -5.5254998207092285, -5.5254998207092285, -5.5254998207092285, -5.5254998207092285, -5.5254998207092285, -5.5254998207092285, -5.5254998207092285, -5.5254998207092285, -5.5254998207092285, -5.5254998207092285, -5.5254998207092285, -5.5254998207092285, -5.5254998207092285]}, \"token.table\": {\"Topic\": [8, 9, 6, 8, 10, 5, 1, 8, 6, 2, 4, 6, 4, 5, 1, 5, 9, 6, 1, 8, 10, 5, 9, 4, 1, 1, 1, 6, 8, 6, 9, 5, 5, 9, 8, 1, 9, 1, 2, 6, 5, 8, 8, 8, 2, 8, 8, 1, 1, 1, 8, 4, 6, 1, 4, 10, 2, 5, 8, 4, 1, 2, 8, 4, 9, 6, 2, 1, 10, 8, 2, 8, 4, 1, 1, 10, 8, 8, 5, 4, 6, 2, 9, 10, 4, 6, 5, 4, 4, 5, 4, 10, 2, 8, 1, 8, 10, 6, 2, 5, 1, 10, 5, 4, 5, 6, 9, 6, 8, 5, 8, 4, 10, 10, 5, 4, 5, 6, 5, 5, 1, 6, 4, 9, 8, 1, 5, 6, 9, 1, 6, 6, 8, 2, 2, 1, 1, 1, 1, 4, 2, 5, 1], \"Freq\": [0.8827957510948181, 1.0264670848846436, 0.9196516275405884, 0.6298380494117737, 0.6298380494117737, 0.670128345489502, 0.8814281225204468, 0.8827957510948181, 0.9196516275405884, 0.6420983076095581, 0.6420983076095581, 0.9196518659591675, 0.6066001057624817, 0.6066001057624817, 0.8814281225204468, 0.9074521064758301, 1.026467204093933, 0.9196516275405884, 0.881428062915802, 0.8827957510948181, 1.0286372900009155, 0.9074519872665405, 1.026467204093933, 0.940061092376709, 0.881428062915802, 0.8814281225204468, 0.8814281225204468, 0.9196516275405884, 0.8827957510948181, 0.6475141644477844, 0.6475141644477844, 0.9074519872665405, 0.9074521064758301, 1.026467204093933, 0.8827957510948181, 0.8814281225204468, 1.026467204093933, 0.8814282417297363, 0.9892682433128357, 0.9196518659591675, 0.9074519872665405, 0.8827957510948181, 0.8827957510948181, 0.8827957510948181, 0.9892682433128357, 0.8827957510948181, 0.8827957510948181, 0.881428062915802, 0.8814281225204468, 0.8814281225204468, 0.8827957510948181, 0.9400612115859985, 0.9196516275405884, 0.881428062915802, 0.9400612115859985, 1.028637170791626, 0.9892682433128357, 0.5822291374206543, 0.5822291374206543, 0.9400612115859985, 0.8814281225204468, 0.9892682433128357, 0.8827957510948181, 0.9400612115859985, 1.0264670848846436, 0.9196516275405884, 0.9892682433128357, 0.6291420459747314, 0.6291420459747314, 0.8827957510948181, 0.9892682433128357, 0.8827957510948181, 0.9400612115859985, 0.8814281225204468, 0.8814281225204468, 1.0286372900009155, 0.8827957510948181, 0.8827957510948181, 0.9074519872665405, 0.940061092376709, 0.9196516275405884, 0.681269109249115, 0.681269109249115, 1.0286372900009155, 0.4817218482494354, 0.4817218482494354, 0.9074521064758301, 0.9400612115859985, 0.9400612115859985, 0.9074519872665405, 0.940061092376709, 1.0286372900009155, 0.9892682433128357, 0.8827957510948181, 0.8814281225204468, 0.6298380494117737, 0.6298380494117737, 0.9196516275405884, 0.626715898513794, 0.626715898513794, 0.6558292508125305, 1.0286372900009155, 0.9074519872665405, 0.940061092376709, 0.9074519872665405, 0.9196516275405884, 1.026467204093933, 0.9196516275405884, 0.8827957510948181, 0.9074519872665405, 0.8827957510948181, 0.9400612115859985, 1.0286372900009155, 1.0286372900009155, 0.9074519872665405, 0.940061092376709, 0.670128345489502, 0.9196516275405884, 0.9074519872665405, 0.9074519872665405, 0.8814281225204468, 0.9196518659591675, 0.6575653553009033, 0.6575653553009033, 0.8827957510948181, 0.2915661931037903, 0.2915661931037903, 0.5831323862075806, 1.026467204093933, 0.5866217613220215, 0.5866217613220215, 0.9196518659591675, 0.8827957510948181, 0.9892682433128357, 0.9892682433128357, 0.8814281225204468, 0.881428062915802, 0.881428062915802, 0.881428062915802, 0.940061092376709, 0.9892682433128357, 0.9074521064758301, 0.881428062915802], \"Term\": [\"3-parallel\", \"3.5-d\", \"aid\", \"algorithm\", \"algorithm\", \"amplifier\", \"analog\", \"analysis\", \"animal\", \"application\", \"application\", \"apply\", \"architecture\", \"architecture\", \"array\", \"audio\", \"automate\", \"aware\", \"camera\", \"capacitor\", \"change\", \"class\", \"clustering\", \"community\", \"compact\", \"compression\", \"consist\", \"context\", \"contextual\", \"database\", \"database\", \"define\", \"delta\", \"design\", \"digital\", \"digitally\", \"dimensional\", \"dipzoom\", \"discrete\", \"dish\", \"domain\", \"early\", \"efficiency\", \"efficient\", \"enable\", \"energy\", \"enhance\", \"estimation\", \"experiment\", \"field\", \"filter\", \"fluid\", \"freely\", \"gesture\", \"global\", \"graphics\", \"halftoning\", \"hardware\", \"hardware\", \"helpfulness\", \"hexagonal\", \"image\", \"implementation\", \"integrating\", \"integration\", \"intelligent\", \"interleave\", \"internet\", \"internet\", \"length\", \"level\", \"linear\", \"manage\", \"marketplace\", \"measurement\", \"memory\", \"merge\", \"microblogs\", \"mix\", \"model\", \"move\", \"multi\", \"multi\", \"multilevel\", \"network\", \"network\", \"nonnumeric\", \"online\", \"opinion\", \"organization\", \"packet\", \"panel\", \"parallel\", \"pattern\", \"persian\", \"phase\", \"phase\", \"power\", \"processing\", \"processing\", \"programmable\", \"programming\", \"radio\", \"receive\", \"receiver\", \"recommender\", \"relational\", \"remotely\", \"reset\", \"scenario\", \"sentiment\", \"services\", \"session\", \"shoot\", \"sigma\", \"simulation\", \"single\", \"social\", \"software\", \"space\", \"speed\", \"storage\", \"study\", \"study\", \"switching\", \"system\", \"system\", \"system\", \"table\", \"technology\", \"technology\", \"telemetry\", \"textual\", \"tile\", \"transform\", \"tunable\", \"unspecified\", \"user\", \"using\", \"vote\", \"wavelet\", \"white\", \"world\"]}, \"R\": 30, \"lambda.step\": 0.01, \"plot.opts\": {\"xlab\": \"PC1\", \"ylab\": \"PC2\"}, \"topic.order\": [1, 2, 3, 4, 5, 6, 7, 8, 9, 10]};\n",
       "\n",
       "function LDAvis_load_lib(url, callback){\n",
       "  var s = document.createElement('script');\n",
       "  s.src = url;\n",
       "  s.async = true;\n",
       "  s.onreadystatechange = s.onload = callback;\n",
       "  s.onerror = function(){console.warn(\"failed to load library \" + url);};\n",
       "  document.getElementsByTagName(\"head\")[0].appendChild(s);\n",
       "}\n",
       "\n",
       "if(typeof(LDAvis) !== \"undefined\"){\n",
       "   // already loaded: just create the visualization\n",
       "   !function(LDAvis){\n",
       "       new LDAvis(\"#\" + \"ldavis_el312019216099311769602283766\", ldavis_el312019216099311769602283766_data);\n",
       "   }(LDAvis);\n",
       "}else if(typeof define === \"function\" && define.amd){\n",
       "   // require.js is available: use it to load d3/LDAvis\n",
       "   require.config({paths: {d3: \"https://cdnjs.cloudflare.com/ajax/libs/d3/3.5.5/d3.min\"}});\n",
       "   require([\"d3\"], function(d3){\n",
       "      window.d3 = d3;\n",
       "      LDAvis_load_lib(\"https://cdn.rawgit.com/bmabey/pyLDAvis/files/ldavis.v1.0.0.js\", function(){\n",
       "        new LDAvis(\"#\" + \"ldavis_el312019216099311769602283766\", ldavis_el312019216099311769602283766_data);\n",
       "      });\n",
       "    });\n",
       "}else{\n",
       "    // require.js not available: dynamically load d3 & LDAvis\n",
       "    LDAvis_load_lib(\"https://cdnjs.cloudflare.com/ajax/libs/d3/3.5.5/d3.min.js\", function(){\n",
       "         LDAvis_load_lib(\"https://cdn.rawgit.com/bmabey/pyLDAvis/files/ldavis.v1.0.0.js\", function(){\n",
       "                 new LDAvis(\"#\" + \"ldavis_el312019216099311769602283766\", ldavis_el312019216099311769602283766_data);\n",
       "            })\n",
       "         });\n",
       "}\n",
       "</script>"
      ],
      "text/plain": [
       "<IPython.core.display.HTML object>"
      ]
     },
     "execution_count": 15,
     "metadata": {},
     "output_type": "execute_result"
    }
   ],
   "source": [
    "dictionary = gensim.corpora.Dictionary.load('dictionary.gensim')\n",
    "corpus = pickle.load(open('corpus.pkl', 'rb'))\n",
    "lda = gensim.models.ldamodel.LdaModel.load('model10.gensim')\n",
    "\n",
    "import pyLDAvis.gensim\n",
    "lda_display = pyLDAvis.gensim.prepare(lda, corpus, dictionary, sort_topics=False)\n",
    "pyLDAvis.display(lda_display)"
   ]
  },
  {
   "cell_type": "code",
   "execution_count": null,
   "metadata": {},
   "outputs": [],
   "source": []
  }
 ],
 "metadata": {
  "kernelspec": {
   "display_name": "Python 3",
   "language": "python",
   "name": "python3"
  },
  "language_info": {
   "codemirror_mode": {
    "name": "ipython",
    "version": 3
   },
   "file_extension": ".py",
   "mimetype": "text/x-python",
   "name": "python",
   "nbconvert_exporter": "python",
   "pygments_lexer": "ipython3",
   "version": "3.6.5"
  }
 },
 "nbformat": 4,
 "nbformat_minor": 2
}
